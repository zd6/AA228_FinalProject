{
 "cells": [
  {
   "cell_type": "code",
   "execution_count": 1,
   "metadata": {},
   "outputs": [],
   "source": [
    "import matplotlib.pyplot as plt\n",
    "import numpy as np"
   ]
  },
  {
   "cell_type": "code",
   "execution_count": 6,
   "metadata": {},
   "outputs": [
    {
     "data": {
      "text/plain": [
       "<Figure size 2400x1600 with 0 Axes>"
      ]
     },
     "metadata": {},
     "output_type": "display_data"
    },
    {
     "data": {
      "text/plain": [
       "<Figure size 2400x1600 with 0 Axes>"
      ]
     },
     "metadata": {},
     "output_type": "display_data"
    },
    {
     "data": {
      "text/plain": [
       "<Figure size 2400x1600 with 0 Axes>"
      ]
     },
     "metadata": {},
     "output_type": "display_data"
    },
    {
     "data": {
      "text/plain": [
       "<Figure size 2400x1600 with 0 Axes>"
      ]
     },
     "metadata": {},
     "output_type": "display_data"
    },
    {
     "data": {
      "text/plain": [
       "<Figure size 2400x1600 with 0 Axes>"
      ]
     },
     "metadata": {},
     "output_type": "display_data"
    }
   ],
   "source": [
    "policies = [\"Random\", \"Greedy\", \"VI\", \"SampleVI\", \"DQN\"]\n",
    "for policy in policies:\n",
    "    stat = np.load(\"{}Test.npy\".format(policy))\n",
    "    plt.figure(dpi=400)\n",
    "    dailyReward = np.sum(stat[:,:,1], axis=1)\n",
    "    plt.hist(dailyReward)\n",
    "    plt.ylabel(\"Number of Days\")\n",
    "    plt.xlabel(\"Daily Rewards\")\n",
    "    plt.title(\"Policy {} Tested for 100 days \\n Yeilds Average Daily Reward of {}\".format(policy, np.mean(dailyReward)))\n",
    "    plt.savefig(\"{}Test.png\".format(policy))\n",
    "    plt.clf()\n"
   ]
  }
 ],
 "metadata": {
  "interpreter": {
   "hash": "9e4ee9b274490f7eaf286d79843393a5de4debc25b8da2bb1abbe77c991d63c6"
  },
  "kernelspec": {
   "display_name": "Python 3.8.5 64-bit ('base': conda)",
   "language": "python",
   "name": "python3"
  },
  "language_info": {
   "codemirror_mode": {
    "name": "ipython",
    "version": 3
   },
   "file_extension": ".py",
   "mimetype": "text/x-python",
   "name": "python",
   "nbconvert_exporter": "python",
   "pygments_lexer": "ipython3",
   "version": "3.8.5"
  },
  "orig_nbformat": 4
 },
 "nbformat": 4,
 "nbformat_minor": 2
}
