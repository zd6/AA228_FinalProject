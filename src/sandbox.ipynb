{
 "cells": [
  {
   "cell_type": "code",
   "execution_count": 4,
   "metadata": {},
   "outputs": [
    {
     "name": "stdout",
     "output_type": "stream",
     "text": [
      "The autoreload extension is already loaded. To reload it, use:\n",
      "  %reload_ext autoreload\n"
     ]
    }
   ],
   "source": [
    "%load_ext autoreload\n",
    "%autoreload 2\n",
    "%reload_ext autoreload\n",
    "import numpy as np\n",
    "from tqdm import tqdm\n",
    "import matplotlib.pylab as plt"
   ]
  },
  {
   "cell_type": "code",
   "execution_count": 5,
   "metadata": {},
   "outputs": [],
   "source": [
    "from gridDelivery import GridDelivery\n",
    "grid = GridDelivery()"
   ]
  },
  {
   "cell_type": "code",
   "execution_count": 100,
   "metadata": {},
   "outputs": [],
   "source": [
    "from VI.valueIteration import VI\n",
    "for _ in range(1):\n",
    "    vi = VI(grid)\n"
   ]
  },
  {
   "cell_type": "code",
   "execution_count": 85,
   "metadata": {},
   "outputs": [
    {
     "data": {
      "image/png": "[encoded data removed]",
      "text/plain": [
       "<Figure size 432x288 with 1 Axes>"
      ]
     },
     "metadata": {
      "needs_background": "light"
     },
     "output_type": "display_data"
    }
   ],
   "source": [
    "plt.imshow(vi.U[:-1].reshape(5,-1))\n",
    "plt.show()\n"
   ]
  },
  {
   "cell_type": "code",
   "execution_count": 91,
   "metadata": {},
   "outputs": [
    {
     "data": {
      "text/plain": [
       "3"
      ]
     },
     "execution_count": 91,
     "metadata": {},
     "output_type": "execute_result"
    }
   ],
   "source": [
    "vi.policy([0,(1,0),grid.packages.values()])"
   ]
  },
  {
   "cell_type": "code",
   "execution_count": 9,
   "metadata": {},
   "outputs": [
    {
     "data": {
      "text/plain": [
       "<matplotlib.image.AxesImage at 0x2783e572d90>"
      ]
     },
     "execution_count": 9,
     "metadata": {},
     "output_type": "execute_result"
    },
    {
     "data": {
      "image/png": "[encoded data removed]",
      "text/plain": [
       "<Figure size 432x288 with 1 Axes>"
      ]
     },
     "metadata": {
      "needs_background": "light"
     },
     "output_type": "display_data"
    }
   ],
   "source": [
    "plt.imshow(grid.Policy.U[:-1].reshape(5,-1))"
   ]
  },
  {
   "cell_type": "code",
   "execution_count": 18,
   "metadata": {},
   "outputs": [
    {
     "name": "stderr",
     "output_type": "stream",
     "text": [
      "c:\\Users\\zd6\\Box\\aa228\\AA228_FinalProject\\src\\gridDelivery.py:264: MatplotlibDeprecationWarning: Adding an axes using the same arguments as a previous axes currently reuses the earlier instance.  In a future version, a new instance will always be created and returned.  Meanwhile, this warning can be suppressed, and the future behavior ensured, by passing a unique label to each axes instance.\n",
      "  plt.subplot(1,2,1)\n",
      "c:\\Users\\zd6\\Box\\aa228\\AA228_FinalProject\\src\\gridDelivery.py:266: MatplotlibDeprecationWarning: Adding an axes using the same arguments as a previous axes currently reuses the earlier instance.  In a future version, a new instance will always be created and returned.  Meanwhile, this warning can be suppressed, and the future behavior ensured, by passing a unique label to each axes instance.\n",
      "  plt.subplot(1,2,2)\n"
     ]
    },
    {
     "data": {
      "image/png": "[encoded data removed]",
      "text/plain": [
       "<Figure size 432x288 with 2 Axes>"
      ]
     },
     "metadata": {
      "needs_background": "light"
     },
     "output_type": "display_data"
    }
   ],
   "source": [
    "import matplotlib.animation as animation\n",
    "from IPython import display\n",
    "for i in range(100):\n",
    "    grid.step()\n",
    "    grid.plot()\n",
    "    plt.savefig(\"{0}frame.png\".format(i))\n",
    "# import os\n",
    "# def save():\n",
    "#     os.system(\"ffmpeg -r 1 -i %01dframe.png -vcodec mpeg4 -y movie.mp4\")\n",
    "# for i in range(100):\n",
    "#     os.remove(\"{0}frame.png\".format(i))\n"
   ]
  },
  {
   "cell_type": "code",
   "execution_count": 15,
   "metadata": {},
   "outputs": [
    {
     "name": "stderr",
     "output_type": "stream",
     "text": [
      "c:\\Users\\zd6\\Box\\aa228\\AA228_FinalProject\\src\\gridDelivery.py:264: MatplotlibDeprecationWarning: Adding an axes using the same arguments as a previous axes currently reuses the earlier instance.  In a future version, a new instance will always be created and returned.  Meanwhile, this warning can be suppressed, and the future behavior ensured, by passing a unique label to each axes instance.\n",
      "  plt.subplot(1,2,1)\n",
      "c:\\Users\\zd6\\Box\\aa228\\AA228_FinalProject\\src\\gridDelivery.py:266: MatplotlibDeprecationWarning: Adding an axes using the same arguments as a previous axes currently reuses the earlier instance.  In a future version, a new instance will always be created and returned.  Meanwhile, this warning can be suppressed, and the future behavior ensured, by passing a unique label to each axes instance.\n",
      "  plt.subplot(1,2,2)\n"
     ]
    },
    {
     "data": {
      "text/html": [
       "<video width=\"432\" height=\"288\" controls autoplay loop>\n",
       "  <source type=\"video/mp4\" src=\"data:video/mp4;base64,AAAAIGZ0eXBNNFYgAAACAE00ViBpc29taXNvMmF2YzEAAAAIZnJlZQAADRVtZGF0AAACrQYF//+p\n",
       "3EXpvebZSLeWLNgg2SPu73gyNjQgLSBjb3JlIDE2NCByMzA3NSA2NmE1YmMxIC0gSC4yNjQvTVBF\n",
       "Ry00IEFWQyBjb2RlYyAtIENvcHlsZWZ0IDIwMDMtMjAyMSAtIGh0dHA6Ly93d3cudmlkZW9sYW4u\n",
       "b3JnL3gyNjQuaHRtbCAtIG9wdGlvbnM6IGNhYmFjPTEgcmVmPTMgZGVibG9jaz0xOjA6MCBhbmFs\n",
       "eXNlPTB4MzoweDExMyBtZT1oZXggc3VibWU9NyBwc3k9MSBwc3lfcmQ9MS4wMDowLjAwIG1peGVk\n",
       "X3JlZj0xIG1lX3JhbmdlPTE2IGNocm9tYV9tZT0xIHRyZWxsaXM9MSA4eDhkY3Q9MSBjcW09MCBk\n",
       "ZWFkem9uZT0yMSwxMSBmYXN0X3Bza2lwPTEgY2hyb21hX3FwX29mZnNldD0tMiB0aHJlYWRzPTkg\n",
       "bG9va2FoZWFkX3RocmVhZHM9MSBzbGljZWRfdGhyZWFkcz0wIG5yPTAgZGVjaW1hdGU9MSBpbnRl\n",
       "cmxhY2VkPTAgYmx1cmF5X2NvbXBhdD0wIGNvbnN0cmFpbmVkX2ludHJhPTAgYmZyYW1lcz0zIGJf\n",
       "cHlyYW1pZD0yIGJfYWRhcHQ9MSBiX2JpYXM9MCBkaXJlY3Q9MSB3ZWlnaHRiPTEgb3Blbl9nb3A9\n",
       "MCB3ZWlnaHRwPTIga2V5aW50PTI1MCBrZXlpbnRfbWluPTEgc2NlbmVjdXQ9NDAgaW50cmFfcmVm\n",
       "cmVzaD0wIHJjX2xvb2thaGVhZD00MCByYz1jcmYgbWJ0cmVlPTEgY3JmPTIzLjAgcWNvbXA9MC42\n",
       "MCBxcG1pbj0wIHFwbWF4PTY5IHFwc3RlcD00IGlwX3JhdGlvPTEuNDAgYXE9MToxLjAwAIAAAAAY\n",
       "Z2QAFazZQbCWhAAAAwAEAAADAAg8WLZYAAAABmjr48siwAAAAq0GBf//qdxF6b3m2Ui3lizYINkj\n",
       "7u94MjY0IC0gY29yZSAxNjQgcjMwNzUgNjZhNWJjMSAtIEguMjY0L01QRUctNCBBVkMgY29kZWMg\n",
       "LSBDb3B5bGVmdCAyMDAzLTIwMjEgLSBodHRwOi8vd3d3LnZpZGVvbGFuLm9yZy94MjY0Lmh0bWwg\n",
       "LSBvcHRpb25zOiBjYWJhYz0xIHJlZj0zIGRlYmxvY2s9MTowOjAgYW5hbHlzZT0weDM6MHgxMTMg\n",
       "bWU9aGV4IHN1Ym1lPTcgcHN5PTEgcHN5X3JkPTEuMDA6MC4wMCBtaXhlZF9yZWY9MSBtZV9yYW5n\n",
       "ZT0xNiBjaHJvbWFfbWU9MSB0cmVsbGlzPTEgOHg4ZGN0PTEgY3FtPTAgZGVhZHpvbmU9MjEsMTEg\n",
       "ZmFzdF9wc2tpcD0xIGNocm9tYV9xcF9vZmZzZXQ9LTIgdGhyZWFkcz05IGxvb2thaGVhZF90aHJl\n",
       "YWRzPTEgc2xpY2VkX3RocmVhZHM9MCBucj0wIGRlY2ltYXRlPTEgaW50ZXJsYWNlZD0wIGJsdXJh\n",
       "eV9jb21wYXQ9MCBjb25zdHJhaW5lZF9pbnRyYT0wIGJmcmFtZXM9MyBiX3B5cmFtaWQ9MiBiX2Fk\n",
       "YXB0PTEgYl9iaWFzPTAgZGlyZWN0PTEgd2VpZ2h0Yj0xIG9wZW5fZ29wPTAgd2VpZ2h0cD0yIGtl\n",
       "eWludD0yNTAga2V5aW50X21pbj0xIHNjZW5lY3V0PTQwIGludHJhX3JlZnJlc2g9MCByY19sb29r\n",
       "YWhlYWQ9NDAgcmM9Y3JmIG1idHJlZT0xIGNyZj0yMy4wIHFjb21wPTAuNjAgcXBtaW49MCBxcG1h\n",
       "eD02OSBxcHN0ZXA9NCBpcF9yYXRpbz0xLjQwIGFxPTE6MS4wMACAAAAARmWIhAAX//731LfMsu1T\n",
       "b7YLqPeiniZfQ3UlAZuWxO06gAAAAwAGd13N19ntQXAfaAAHjAAJaM25FLi9Ty35g3EZTU4ABH0A\n",
       "AAAPQZokbEF//tqmWAAAAwPuAAAADEGeQniC3wAAAwABvQAAAAwBnmF0QV8AAAMAArYAAAAMAZ5j\n",
       "akFfAAADAAK3AAAAFUGaaEmoQWiZTAgv//7aplgAAAMD7wAAAA5BnoZFESwW/wAAAwABvQAAAAwB\n",
       "nqV0QV8AAAMAArcAAAAMAZ6nakFfAAADAAK2AAAAFUGarEmoQWyZTAgv//7aplgAAAMD7gAAAA5B\n",
       "nspFFSwW/wAAAwABvQAAAAwBnul0QV8AAAMAArYAAAAMAZ7rakFfAAADAAK2AAAAFUGa8EmoQWyZ\n",
       "TAgv//7aplgAAAMD7wAAAA5Bnw5FFSwW/wAAAwABvQAAAAwBny10QV8AAAMAArcAAAAMAZ8vakFf\n",
       "AAADAAK2AAAAFUGbNEmoQWyZTAgv//7aplgAAAMD7gAAAA5Bn1JFFSwW/wAAAwABvQAAAAwBn3F0\n",
       "QV8AAAMAArYAAAAMAZ9zakFfAAADAAK2AAAAFUGbeEmoQWyZTAgv//7aplgAAAMD7wAAAA5Bn5ZF\n",
       "FSwW/wAAAwABvQAAAAwBn7V0QV8AAAMAArcAAAAMAZ+3akFfAAADAAK3AAAAFUGbvEmoQWyZTAgv\n",
       "//7aplgAAAMD7gAAAA5Bn9pFFSwW/wAAAwABvQAAAAwBn/l0QV8AAAMAArYAAAAMAZ/7akFfAAAD\n",
       "AAK3AAAAFUGb4EmoQWyZTAgv//7aplgAAAMD7wAAAA5Bnh5FFSwW/wAAAwABvQAAAAwBnj10QV8A\n",
       "AAMAArYAAAAMAZ4/akFfAAADAAK3AAAAFUGaJEmoQWyZTAgv//7aplgAAAMD7gAAAA5BnkJFFSwW\n",
       "/wAAAwABvQAAAAwBnmF0QV8AAAMAArYAAAAMAZ5jakFfAAADAAK3AAAAFUGaaEmoQWyZTAgv//7a\n",
       "plgAAAMD7wAAAA5BnoZFFSwW/wAAAwABvQAAAAwBnqV0QV8AAAMAArcAAAAMAZ6nakFfAAADAAK2\n",
       "AAAAFUGarEmoQWyZTAgv//7aplgAAAMD7gAAAA5BnspFFSwW/wAAAwABvQAAAAwBnul0QV8AAAMA\n",
       "ArYAAAAMAZ7rakFfAAADAAK2AAAAFUGa8EmoQWyZTAgv//7aplgAAAMD7wAAAA5Bnw5FFSwW/wAA\n",
       "AwABvQAAAAwBny10QV8AAAMAArcAAAAMAZ8vakFfAAADAAK2AAAAFUGbNEmoQWyZTAgv//7aplgA\n",
       "AAMD7gAAAA5Bn1JFFSwW/wAAAwABvQAAAAwBn3F0QV8AAAMAArYAAAAMAZ9zakFfAAADAAK2AAAA\n",
       "FUGbeEmoQWyZTAgv//7aplgAAAMD7wAAAA5Bn5ZFFSwW/wAAAwABvQAAAAwBn7V0QV8AAAMAArcA\n",
       "AAAMAZ+3akFfAAADAAK3AAAAFUGbvEmoQWyZTAgv//7aplgAAAMD7gAAAA5Bn9pFFSwW/wAAAwAB\n",
       "vQAAAAwBn/l0QV8AAAMAArYAAAAMAZ/7akFfAAADAAK3AAAAFUGb4EmoQWyZTAgv//7aplgAAAMD\n",
       "7wAAAA5Bnh5FFSwW/wAAAwABvQAAAAwBnj10QV8AAAMAArYAAAAMAZ4/akFfAAADAAK3AAAAFUGa\n",
       "JEmoQWyZTAgv//7aplgAAAMD7gAAAA5BnkJFFSwW/wAAAwABvQAAAAwBnmF0QV8AAAMAArYAAAAM\n",
       "AZ5jakFfAAADAAK3AAAAFUGaaEmoQWyZTAgv//7aplgAAAMD7wAAAA5BnoZFFSwW/wAAAwABvQAA\n",
       "AAwBnqV0QV8AAAMAArcAAAAMAZ6nakFfAAADAAK2AAAAFUGarEmoQWyZTAgv//7aplgAAAMD7gAA\n",
       "AA5BnspFFSwW/wAAAwABvQAAAAwBnul0QV8AAAMAArYAAAAMAZ7rakFfAAADAAK2AAAAFUGa8Emo\n",
       "QWyZTAgv//7aplgAAAMD7wAAAA5Bnw5FFSwW/wAAAwABvQAAAAwBny10QV8AAAMAArcAAAAMAZ8v\n",
       "akFfAAADAAK2AAAAFUGbNEmoQWyZTAgv//7aplgAAAMD7gAAAA5Bn1JFFSwW/wAAAwABvQAAAAwB\n",
       "n3F0QV8AAAMAArYAAAAMAZ9zakFfAAADAAK2AAAAFUGbeEmoQWyZTAgv//7aplgAAAMD7wAAAA5B\n",
       "n5ZFFSwW/wAAAwABvQAAAAwBn7V0QV8AAAMAArcAAAAMAZ+3akFfAAADAAK3AAAAFUGbvEmoQWyZ\n",
       "TAgv//7aplgAAAMD7gAAAA5Bn9pFFSwW/wAAAwABvQAAAAwBn/l0QV8AAAMAArYAAAAMAZ/7akFf\n",
       "AAADAAK3AAAAFUGb4EmoQWyZTAgv//7aplgAAAMD7wAAAA5Bnh5FFSwW/wAAAwABvQAAAAwBnj10\n",
       "QV8AAAMAArYAAAAMAZ4/akFfAAADAAK3AAAAFUGaI0moQWyZTAgr//7WpVAAAAMD7gAAAA5BnkFF\n",
       "FSwV/wAAAwACtwAAAAwBnmJqQV8AAAMAArYAAAfZbW9vdgAAAGxtdmhkAAAAAAAAAAAAAAAAAAAD\n",
       "6AABhqAAAQAAAQAAAAAAAAAAAAAAAAEAAAAAAAAAAAAAAAAAAAABAAAAAAAAAAAAAAAAAABAAAAA\n",
       "AAAAAAAAAAAAAAAAAAAAAAAAAAAAAAAAAAAAAgAABwR0cmFrAAAAXHRraGQAAAADAAAAAAAAAAAA\n",
       "AAABAAAAAAABhqAAAAAAAAAAAAAAAAAAAAAAAAEAAAAAAAAAAAAAAAAAAAABAAAAAAAAAAAAAAAA\n",
       "AABAAAAAAbAAAAEgAAAAAAAkZWR0cwAAABxlbHN0AAAAAAAAAAEAAYagAACAAAABAAAAAAZ8bWRp\n",
       "YQAAACBtZGhkAAAAAAAAAAAAAAAAAABAAAAZAABVxAAAAAAALWhkbHIAAAAAAAAAAHZpZGUAAAAA\n",
       "AAAAAAAAAABWaWRlb0hhbmRsZXIAAAAGJ21pbmYAAAAUdm1oZAAAAAEAAAAAAAAAAAAAACRkaW5m\n",
       "AAAAHGRyZWYAAAAAAAAAAQAAAAx1cmwgAAAAAQAABedzdGJsAAAAt3N0c2QAAAAAAAAAAQAAAKdh\n",
       "dmMxAAAAAAAAAAEAAAAAAAAAAAAAAAAAAAAAAbABIABIAAAASAAAAAAAAAABAAAAAAAAAAAAAAAA\n",
       "AAAAAAAAAAAAAAAAAAAAAAAAAAAAGP//AAAANWF2Y0MBZAAV/+EAGGdkABWs2UGwloQAAAMABAAA\n",
       "AwAIPFi2WAEABmjr48siwP34+AAAAAAcdXVpZGtoQPJfJE/FujmlG88DI/MAAAAAAAAAGHN0dHMA\n",
       "AAAAAAAAAQAAAGQAAEAAAAAAFHN0c3MAAAAAAAAAAQAAAAEAAAMoY3R0cwAAAAAAAABjAAAAAQAA\n",
       "gAAAAAABAAFAAAAAAAEAAIAAAAAAAQAAAAAAAAABAABAAAAAAAEAAUAAAAAAAQAAgAAAAAABAAAA\n",
       "AAAAAAEAAEAAAAAAAQABQAAAAAABAACAAAAAAAEAAAAAAAAAAQAAQAAAAAABAAFAAAAAAAEAAIAA\n",
       "AAAAAQAAAAAAAAABAABAAAAAAAEAAUAAAAAAAQAAgAAAAAABAAAAAAAAAAEAAEAAAAAAAQABQAAA\n",
       "AAABAACAAAAAAAEAAAAAAAAAAQAAQAAAAAABAAFAAAAAAAEAAIAAAAAAAQAAAAAAAAABAABAAAAA\n",
       "AAEAAUAAAAAAAQAAgAAAAAABAAAAAAAAAAEAAEAAAAAAAQABQAAAAAABAACAAAAAAAEAAAAAAAAA\n",
       "AQAAQAAAAAABAAFAAAAAAAEAAIAAAAAAAQAAAAAAAAABAABAAAAAAAEAAUAAAAAAAQAAgAAAAAAB\n",
       "AAAAAAAAAAEAAEAAAAAAAQABQAAAAAABAACAAAAAAAEAAAAAAAAAAQAAQAAAAAABAAFAAAAAAAEA\n",
       "AIAAAAAAAQAAAAAAAAABAABAAAAAAAEAAUAAAAAAAQAAgAAAAAABAAAAAAAAAAEAAEAAAAAAAQAB\n",
       "QAAAAAABAACAAAAAAAEAAAAAAAAAAQAAQAAAAAABAAFAAAAAAAEAAIAAAAAAAQAAAAAAAAABAABA\n",
       "AAAAAAEAAUAAAAAAAQAAgAAAAAABAAAAAAAAAAEAAEAAAAAAAQABQAAAAAABAACAAAAAAAEAAAAA\n",
       "AAAAAQAAQAAAAAABAAFAAAAAAAEAAIAAAAAAAQAAAAAAAAABAABAAAAAAAEAAUAAAAAAAQAAgAAA\n",
       "AAABAAAAAAAAAAEAAEAAAAAAAQABQAAAAAABAACAAAAAAAEAAAAAAAAAAQAAQAAAAAABAAFAAAAA\n",
       "AAEAAIAAAAAAAQAAAAAAAAABAABAAAAAAAEAAUAAAAAAAQAAgAAAAAABAAAAAAAAAAEAAEAAAAAA\n",
       "AQABQAAAAAABAACAAAAAAAEAAAAAAAAAAQAAQAAAAAABAAEAAAAAAAIAAEAAAAAAHHN0c2MAAAAA\n",
       "AAAAAQAAAAEAAABkAAAAAQAAAaRzdHN6AAAAAAAAAAAAAABkAAAF0gAAABMAAAAQAAAAEAAAABAA\n",
       "AAAZAAAAEgAAABAAAAAQAAAAGQAAABIAAAAQAAAAEAAAABkAAAASAAAAEAAAABAAAAAZAAAAEgAA\n",
       "ABAAAAAQAAAAGQAAABIAAAAQAAAAEAAAABkAAAASAAAAEAAAABAAAAAZAAAAEgAAABAAAAAQAAAA\n",
       "GQAAABIAAAAQAAAAEAAAABkAAAASAAAAEAAAABAAAAAZAAAAEgAAABAAAAAQAAAAGQAAABIAAAAQ\n",
       "AAAAEAAAABkAAAASAAAAEAAAABAAAAAZAAAAEgAAABAAAAAQAAAAGQAAABIAAAAQAAAAEAAAABkA\n",
       "AAASAAAAEAAAABAAAAAZAAAAEgAAABAAAAAQAAAAGQAAABIAAAAQAAAAEAAAABkAAAASAAAAEAAA\n",
       "ABAAAAAZAAAAEgAAABAAAAAQAAAAGQAAABIAAAAQAAAAEAAAABkAAAASAAAAEAAAABAAAAAZAAAA\n",
       "EgAAABAAAAAQAAAAGQAAABIAAAAQAAAAEAAAABkAAAASAAAAEAAAABRzdGNvAAAAAAAAAAEAAAAw\n",
       "AAAAYXVkdGEAAABZbWV0YQAAAAAAAAAhaGRscgAAAAAAAAAAbWRpcmFwcGwAAAAAAAAAAAAAAAAs\n",
       "aWxzdAAAACSpdG9vAAAAHGRhdGEAAAABAAAAAExhdmY1OS45LjEwMQ==\n",
       "\">\n",
       "  Your browser does not support the video tag.\n",
       "</video>"
      ],
      "text/plain": [
       "<IPython.core.display.HTML object>"
      ]
     },
     "metadata": {},
     "output_type": "display_data"
    },
    {
     "data": {
      "image/png": "[encoded data removed]",
      "text/plain": [
       "<Figure size 432x288 with 2 Axes>"
      ]
     },
     "metadata": {
      "needs_background": "light"
     },
     "output_type": "display_data"
    }
   ],
   "source": [
    "video_1 = animation_1.to_html5_video()\n",
    "html_code_1 = display.HTML(video_1)\n",
    "display.display(html_code_1)\n",
    "plt.tight_layout()\n",
    "plt.show()"
   ]
  },
  {
   "cell_type": "code",
   "execution_count": 52,
   "metadata": {},
   "outputs": [
    {
     "data": {
      "text/plain": [
       "1"
      ]
     },
     "execution_count": 52,
     "metadata": {},
     "output_type": "execute_result"
    }
   ],
   "source": [
    "np.ravel_multi_index((0,0,0,1),(5,5,5,5))"
   ]
  },
  {
   "cell_type": "code",
   "execution_count": 1,
   "metadata": {},
   "outputs": [
    {
     "ename": "AttributeError",
     "evalue": "module 'ffmpeg' has no attribute 'input'",
     "output_type": "error",
     "traceback": [
      "\u001b[1;31m---------------------------------------------------------------------------\u001b[0m",
      "\u001b[1;31mAttributeError\u001b[0m                            Traceback (most recent call last)",
      "\u001b[1;32m<ipython-input-1-a0d2162eeab8>\u001b[0m in \u001b[0;36m<module>\u001b[1;34m\u001b[0m\n\u001b[0;32m      1\u001b[0m \u001b[1;32mimport\u001b[0m \u001b[0mffmpeg\u001b[0m\u001b[1;33m\u001b[0m\u001b[1;33m\u001b[0m\u001b[0m\n\u001b[0;32m      2\u001b[0m (\n\u001b[1;32m----> 3\u001b[1;33m     \u001b[0mffmpeg\u001b[0m\u001b[1;33m\u001b[0m\u001b[1;33m\u001b[0m\u001b[0m\n\u001b[0m\u001b[0;32m      4\u001b[0m     \u001b[1;33m.\u001b[0m\u001b[0minput\u001b[0m\u001b[1;33m(\u001b[0m\u001b[1;34m'/path/to/jpegs/*.jpg'\u001b[0m\u001b[1;33m,\u001b[0m \u001b[0mpattern_type\u001b[0m\u001b[1;33m=\u001b[0m\u001b[1;34m'glob'\u001b[0m\u001b[1;33m,\u001b[0m \u001b[0mframerate\u001b[0m\u001b[1;33m=\u001b[0m\u001b[1;36m25\u001b[0m\u001b[1;33m)\u001b[0m\u001b[1;33m\u001b[0m\u001b[1;33m\u001b[0m\u001b[0m\n\u001b[0;32m      5\u001b[0m     \u001b[1;33m.\u001b[0m\u001b[0moutput\u001b[0m\u001b[1;33m(\u001b[0m\u001b[1;34m'movie.mp4'\u001b[0m\u001b[1;33m)\u001b[0m\u001b[1;33m\u001b[0m\u001b[1;33m\u001b[0m\u001b[0m\n",
      "\u001b[1;31mAttributeError\u001b[0m: module 'ffmpeg' has no attribute 'input'"
     ]
    }
   ],
   "source": [
    "import ffmpeg\n",
    "(\n",
    "    ffmpeg\n",
    "    .input('/path/to/jpegs/*.jpg', pattern_type='glob', framerate=25)\n",
    "    .output('movie.mp4')\n",
    "    .run()\n",
    ")"
   ]
  },
  {
   "cell_type": "code",
   "execution_count": null,
   "metadata": {},
   "outputs": [],
   "source": []
  }
 ],
 "metadata": {
  "interpreter": {
   "hash": "74847fcbdcd94036bf2f0f9d227a915deb4e6afd6c26ed4a653ceb41aa4e9b88"
  },
  "kernelspec": {
   "display_name": "Python 3.8.5 64-bit ('csrl': conda)",
   "language": "python",
   "name": "python3"
  },
  "language_info": {
   "codemirror_mode": {
    "name": "ipython",
    "version": 3
   },
   "file_extension": ".py",
   "mimetype": "text/x-python",
   "name": "python",
   "nbconvert_exporter": "python",
   "pygments_lexer": "ipython3",
   "version": "3.8.5"
  },
  "orig_nbformat": 4
 },
 "nbformat": 4,
 "nbformat_minor": 2
}
