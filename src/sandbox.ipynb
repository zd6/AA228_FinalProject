{
 "cells": [
  {
   "cell_type": "code",
   "execution_count": 185,
   "metadata": {},
   "outputs": [
    {
     "name": "stdout",
     "output_type": "stream",
     "text": [
      "The autoreload extension is already loaded. To reload it, use:\n",
      "  %reload_ext autoreload\n"
     ]
    }
   ],
   "source": [
    "%load_ext autoreload\n",
    "%autoreload 2\n",
    "%reload_ext autoreload\n",
    "import numpy as np\n",
    "from tqdm import tqdm\n",
    "import matplotlib.pylab as plt"
   ]
  },
  {
   "cell_type": "code",
   "execution_count": null,
   "metadata": {},
   "outputs": [],
   "source": []
  },
  {
   "cell_type": "code",
   "execution_count": null,
   "metadata": {},
   "outputs": [],
   "source": []
  },
  {
   "cell_type": "code",
   "execution_count": 161,
   "metadata": {},
   "outputs": [],
   "source": [
    "stat = np.loadtxt(\"VI/samples.txt\")\n",
    "not_rush_samples = stat[np.where(stat[:,0] == 0)].astype(int)\n",
    "rush_samples = stat[np.where(stat[:,0] == 1)].astype(int)"
   ]
  },
  {
   "cell_type": "code",
   "execution_count": 154,
   "metadata": {},
   "outputs": [
    {
     "data": {
      "text/plain": [
       "array([[0, 2, 2, 0, 2, 2],\n",
       "       [0, 2, 2, 3, 2, 2],\n",
       "       [0, 2, 2, 3, 2, 2],\n",
       "       ...,\n",
       "       [0, 4, 4, 3, 4, 4],\n",
       "       [0, 4, 4, 2, 4, 3],\n",
       "       [0, 4, 3, 2, 4, 2]])"
      ]
     },
     "execution_count": 154,
     "metadata": {},
     "output_type": "execute_result"
    }
   ],
   "source": [
    "not_rush_samples.astype(int)"
   ]
  },
  {
   "cell_type": "code",
   "execution_count": 156,
   "metadata": {},
   "outputs": [],
   "source": [
    "T = np.zeros((26,4,26))\n",
    "T[(not_rush_samples[:,1]*5+not_rush_samples[:,2]).astype(int), (not_rush_samples[:,3]).astype(int)\\\n",
    "    , (not_rush_samples[:,4]*5+not_rush_samples[:,4]).astype(int)]+=1"
   ]
  },
  {
   "cell_type": "code",
   "execution_count": 164,
   "metadata": {},
   "outputs": [],
   "source": [
    "N = np.zeros((26, 4))\n",
    "for sample in not_rush_samples:\n",
    "    T[sample[1]*5+sample[2], sample[3], sample[4]*5+sample[5]] += 1\n",
    "    N[sample[1]*5+sample[2], sample[3]] += 1"
   ]
  },
  {
   "cell_type": "code",
   "execution_count": 176,
   "metadata": {},
   "outputs": [],
   "source": [
    "T = np.einsum('ijk, ij -> ijk', T, np.divide(1, N, out=np.zeros_like(N), where=N!=0))"
   ]
  },
  {
   "cell_type": "code",
   "execution_count": 180,
   "metadata": {},
   "outputs": [
    {
     "data": {
      "text/plain": [
       "array([ 0,  0, -1,  1])"
      ]
     },
     "execution_count": 180,
     "metadata": {},
     "output_type": "execute_result"
    }
   ],
   "source": [
    "np.dot(directions, [0,1])"
   ]
  },
  {
   "cell_type": "code",
   "execution_count": 181,
   "metadata": {},
   "outputs": [
    {
     "data": {
      "text/plain": [
       "[[-1, 0], [1, 0], [0, -1], [0, 1]]"
      ]
     },
     "execution_count": 181,
     "metadata": {},
     "output_type": "execute_result"
    }
   ],
   "source": [
    "directions"
   ]
  },
  {
   "cell_type": "code",
   "execution_count": 6,
   "metadata": {},
   "outputs": [
    {
     "name": "stderr",
     "output_type": "stream",
     "text": [
      "/Users/dzg/Box/aa228/AA228_FinalProject/src/gridDelivery.py:264: MatplotlibDeprecationWarning: Adding an axes using the same arguments as a previous axes currently reuses the earlier instance.  In a future version, a new instance will always be created and returned.  Meanwhile, this warning can be suppressed, and the future behavior ensured, by passing a unique label to each axes instance.\n",
      "  plt.subplot(1,2,1)\n",
      "/Users/dzg/Box/aa228/AA228_FinalProject/src/gridDelivery.py:266: MatplotlibDeprecationWarning: Adding an axes using the same arguments as a previous axes currently reuses the earlier instance.  In a future version, a new instance will always be created and returned.  Meanwhile, this warning can be suppressed, and the future behavior ensured, by passing a unique label to each axes instance.\n",
      "  plt.subplot(1,2,2)\n"
     ]
    },
    {
     "data": {
      "text/html": [
       "<video width=\"432\" height=\"288\" controls autoplay loop>\n",
       "  <source type=\"video/mp4\" src=\"data:video/mp4;base64,AAAAIGZ0eXBNNFYgAAACAE00ViBpc29taXNvMmF2YzEAAAAIZnJlZQAAE/NtZGF0AAALNmW4AAQA\n",
       "AHkxQABDkk1JycnJycnJycnJycnJycnJycnJycnJycnJ1arrrrrrrrrrrrrrrrrrrrrrrrrrq666\n",
       "666666666666666666666666uuuuuuuuuuuuuuuuuuuuuuuuuuuuv//6wQ8ABwbiWoj/aoJ2NJHf\n",
       "/eAueMO1D4YjnNN8Bjw/CWAC4ZBWGeLXcUXN2pf9plvvvvx/h/h7DuWAcEwqkzl+Mx8P8J4aZYCE\n",
       "BhDb+f7qO9X4/h/w/gAJDchiOK31EKe1UUsrD/w54YzAATGxTFBGN5RIWc4TirOAAghPtZDW/ykr\n",
       "ACuAn4DFZ7PuJqSpMNNuHH4i8GTRTXKaKa/+P4f8P4DiEcktLAAEHq/j8/h4UgFnVuM/gKIHEKDy\n",
       "iQ5J7oZJase+X34/4fwllIMBwI5T0wG/397xD//h7ABeIojDeFLuKrm7Ut+uuuv8Jv/w/MAANgAQ\n",
       "BpxMMAANAAYBQgmABIFA2PRqpI7RdF/eB49YZiHQxPPaWOwAQYbvNndylACRC/aiGt7lpVzKBPwO\n",
       "NUtxbi+7Qf//9dddddarrrr4H8Rx8JRAADgAAgPqRhSAAgYqUHtch+YwkC/r8AhGUqv8bkrsqJOv\n",
       "wALG2Aw1W/VuKLm7QAjF6lEtZ3rQrmrBy4gWGuuuuuusvXXXXXX//9IIeAAmIEStPDeX2iS4NO+I\n",
       "ggmYZDT4Igavy6666666666//4fBNgA3jJYnKCiG7wWADwYjBjvTx5x0CPPvH/76fefT7/8fD/5F\n",
       "11118f/+EsACFdpzJtOGdvLffiH//D2ABnXm0EvUIxBjXXXX+EA/4fnpTAYgB+MojTPFLuqLm7QA\n",
       "4nKYqCs9RKFNRx/+ARcABBifSiWN/loV7F2DfAYYpbq3V1TdoP+ACJ38k9L2xG+++OwAIzfdd1/4\n",
       "AILmlbEeH+vD/wwCCDgBLM4iGqLtcBvv/h4/gh8AOLIyGiV4vCvxHHwl4OAA95DBV9OPCzuybzG5\n",
       "TlcVvrJW1qwAWJuBxit+LdUXN2gBITLUU53+tKvasFLaZWGOwAENmd3ZmZ3dmf//gcAAkA4dLf+H\n",
       "x8YIeACsYRBcIeU15u16666666666//+cIIYACY2KYoIxvKJCznCfjwjwwhNog4sQmr5gBMUxXEB\n",
       "ltIk+8J8AN2FPaaaYGiGE6Tn/9/xtxGJ9WeeH8yIw1QxkcX1KTZicRxuCl3F1zdouTCd9/rv99//\n",
       "/8P+6+v/4L2wrAcAA4ADgKPywAPCchyMKz1kLY1YAOACAsGTq26w0AS2tY74JhSF3/MBhDOuslQ+\n",
       "kwXOYE9rFmuu//ADCVjkYdnrKW5q13331111111111/sw/+H/nABlBefBnOIBgnXJ4GTuBRInBjP\n",
       "lVx5VOGHc4B/wCLhgUQOGeH09M8wQ6/wAzKmNGfV74mDfff/+I/BBwAcuNkRj2r3r//j8EHAEU2G\n",
       "Yx61cBvv///gh8AVXBGOetS8mG6Q/4S+AlGjBBOkYaXJVeR8FXyAUepTWnHEu5DDD7wVYEBiAifO\n",
       "GP0Z6w1111111111111//9YQQwAHE/MEG9K2JZ0JWO7gKixiUw2FHDF3//1gm4HGK34t1Rc3asAD\n",
       "ZwY0w0w/8OP10OwAIzCZ7ozs5f/hwFEL9qIa3uWlXMoE/A41S3FuK7tf3331+uO++Dof0Oh/ff//\n",
       "/D/wev/5wHwrAAQbCEroNvzm8aDU5n4DFZ7PuJqSpKLN4gABAHchyAjTFkBTpwb/3gCEYlSW/7V0\n",
       "vs4PYNsBhqt+rcUXN2gBMXKUW93atCuatdddddddddddddf8v/h+Ao3xgozpSxLGhOx3cAcD65GM\n",
       "gj9G1X8GHh//w9DeVGv//xwQeA4AB0AHAWAIJj8P+H4IOA4ABQA4MJpmuuuuuvl4/+K+CcQhdhl+\n",
       "83nQbnM/AQjOZ1RFSTJZZYYYODfwHFAAIA6Z/8AwCCD3/+AYYIfFAAEGC//8eeCHgAokEUHlEjmu\n",
       "EvXXX//44IPAcCOU9Mfw/x/BB4DoMFLTF111//84QQwAeNgNXmntMAFBd9cwFYBUVgVD8D5lXoBR\n",
       "vjBRnSliWNCdju8AQrErSz+eilfSR2ABGYTPdmdil//8Q2IcjiN5ZC2sohEFabwtd1Xdr+us3fXr\n",
       "rrrrr/+iAPhWADxMB7805hgAoBl9cwDmfwGFFswVbT+AECFZhMBEctOndMnV/AGK1C0M7nKtX6kP\n",
       "ZjKI0zxS7qi5u0AONynK4rdWStrVrrrrrrrrL31111138P+GAQ9D7x+AAgZzHMYxzmMY5jn/+BwA\n",
       "BAaABhtz+H+IAHCuAAmNimKCMbiiQs5wnDLbR8fgAIGcxzGMc5jGOY5//gcAA6ADgLufh/AMA4II\n",
       "ACRmQkU5xhfMbIMjZBDj8ABAjHMcxjmOcxzHP/4HAAEBsAGGXP4f8AwCCCAEsjiMX67X/H4ACBGO\n",
       "Y5jHMc5jmOf/wOAAIDQAMNufj8ABAzGOc5jGMc5zGP//wOAAcABwFXPw8fCCDlgACE9rxDH/wk/+\n",
       "AYBBD4DgAHQAcBZ9M/+AYBBDgOAAcABwFH5bj8ABAjnMY5jHOY5zGP//wOAAIDYAMMufw4+AYIYA\n",
       "KxhBm0QPLdIm7XAfx+AAgRzmMcxjnMc5jH//wOAAIDQAMNub4/AAQM5jmMY5zGMcxz//A4ABwAHA\n",
       "Vc/h+OGAQQYAEOoX9yHEtcMfgAIGcxzGMc5jGOY5//gcAAQGwAYZc/EP+HyLrrrrr7hQMFy9wAEx\n",
       "MU5WEZyyVsYvHlAACACEy9s4TS/ifoQAAIH8AAECSgAxGQ0QpFcT1L8Mv0wAeGxDkcRvLIW1i9pE\n",
       "ACAZc6Y8L3Fwf+ZmY1U51cX0p8MOvgfxb+E4AegQjWgs4cPhtqBGMRPmMOFKOLHq8BvNBkAgenbx\n",
       "oiC/QBQTiUskz2rCNOlCf/eQAccFQGShm32m0S4Ya8Th8v4TgA42EJXQbfnN40GpzPwGKz2fcTUl\n",
       "SUWbYAGzA3Gm8eBQkTn664Bi8Qq2casJ0VcIfgBxOUxQBGs9RKgBfQTsG+AwxS3Vvqrm7QfjsABA\n",
       "CDzEFFzIpuEItN/AEIEI1oLOHDbVAUYn0oljf5aFez7kDFY0FHThtq/EA+EvwnBANhLF0cVWyusf\n",
       "7+r+AAJiHAJ4ZxvLeuq6wdgJxKFVcUWwssf7+r///6whTAPQIRoLPGznQ23cAQQK2lE9wwaqQV2E\n",
       "rv7oCo5DS2GwUjoh/8v8JwRjET5jTxSjq56vf4NxCVV3tYhC2JaHxCLDGIc46e1qcGHXX/h834Ug\n",
       "AODcS1Ef7VBOxpI7/7gE4tKJM5qgjrpUl/xgABsACANOJhgABoACAMEEwAJAoGx6NVJHaLov7wPH\n",
       "rDMQ6GJ57Sww1h/EQ+GEKQB+IRJprThQS9Jz1e8eAAaAAgCDyZgLACDAxxZYbJzamAEQnWohjP9a\n",
       "Ve1fhr+Ig3/vAD0CEa0FnDh8NtUAcTFOVhGcslbGLBANhLF0cVWyusf7+r9AAPuHTSX2DFPHIb9+\n",
       "CBisaCjpw+G2r/mNynKDNb6yQo50kGHXx4h8veAEifmCDelbEs6ErHdsE3A4xW/FuqLm7XAJxaUS\n",
       "BVu6IDPyW3/g8AA2cGNMNKg/+Ofn74CjfGCjOlLEsaE7HdD4A4H1yMZBH6Lqv4MOvjAOK5e8AfCF\n",
       "Qaaw4WEvCc9XgAXDFR5jDxaji56veAMViFIZ/AsZjrnZpf+QnIcjCs9ZC2NWH/FIDVw2aScQohH/\n",
       "ofY0lSkoGHXXXXXXXXXXXXfXXXXXXXXXXXXXXXXXXXXXXXXXXXXXXXXXXXXXXXXXXXXUlddddddd\n",
       "ddddddddddddddddddeAAAACNmHgAEAAnI8DhsQeANRImPAa+v5AARcahwAi41UNVDWI3kojxH7H\n",
       "QOAEWmocAnzUMVVfR8lSwcAnzUOAT5qPkqWHyVLB20x4dtMcRvJdiIDgBFyZYOAEXGpA1c7A0BwA\n",
       "i41DgBFxqoaFDRMNf/8Pb+I/iIDgBO5JYHACdyS3g4ATuSWAFL0n109/X64rwHACZzpkHACZTpkH\n",
       "ACZTpkwx//w9G2j/4iA4ATuaWBwAnc0t4OAE7mlgcAupJb4U+praa//xEBwC6klgcAupJbwDkn56\n",
       "XaHgBKpJb+FNmVNbTX/xHiP4iA4ASqSWBwAnUkt4OAE6klgcACdSS3zDH4f4ez+3A4ARcagNiQ8+\n",
       "A19aj3ign7ISQ+SEkPz83FYAvbuqv3/rQH99MIkmUv0wAJnOmQcAJnOmT/z+fz+fz+fiObwALqSX\n",
       "/fsU/C3Jh4U6qsRB1fKE8ACM33Xdf+ACC5pTYjw/1qFeXgAiD/Tn337xfLwAXN2q/j99rwbcvAA1\n",
       "l211333hTl4DgX5EziObm8BwAmU6YEOXwAt9t1z39yQJ+ruau5+ruau5/PzcVg4ATKdMg4ATKdMg\n",
       "4ATKdMADEpq+f36pAVuSonUcXeRPhPiYOAXVkzBwC6smYDHqXj4v+/56iuJMkABExMqkyHACJiZV\n",
       "JkOAETEz/m8BwAToRMCHfAcAJ3Mmc/98ADKNaBPLVb+Dn/vgAfzqffT//befkgA/1S/p/e1ZbtX/\n",
       "H72/xHfACIPpdx/3t4FWAAAAVGHgAIABHIG8DiIxKSiPEdBTOSNptzabf/QjORiOSBguA4ABQdLp\n",
       "b6EdBTJmmnpp/8R4jjQnyQkh8kJIfn4o/CB+G+JgOqaZg6ppmDqmmcOAuz8DPAAAAEFh4ADAAZyA\n",
       "nwOJh/j/h69cR4joKZyQ1LVS441UtVLjj/0YY//4enp4jmEcIhPD6mEhJD5ISQ/PxR9MIH4DWPwM\n",
       "8AAAADhh4AEAAhyAzwOJhj//h6Ic8R4jow3f/+Ho01+jDV//5Ijhcwf/+HozT8/FG8P/w/QuED8B\n",
       "rH4GeAAAABhh4AFAApyA7wOvET0PTPQ9MEvFXve8ApsAAAALYeABgAMcgO8A88AAAAALYeABwAOc\n",
       "gO8A88AAAAALYeACAAQcgO8A88AAAAALYeACQAScgO8A88AAAAALYeACgAUcgO8A88AAAAALYeAC\n",
       "wAWcgO8A88AAAAALYeADAAYcgO8A88AAAAALYeADQAacgO8A88AAAAALYeADgAccgO8A88AAAAAL\n",
       "YeADwAecgO8A88AAAAALYeAEAAgcgO8A88AAAAALYeAEQAicgO8A88AAAAALYeAEgAkcgO8A88AA\n",
       "AAALYeAEwAmcgO8A88AAAAALYeAFAAocgO8A88AAAAALYeAFQAqcgO8A88AAAAALYeAFgAscgO8A\n",
       "88AAAAALYeAFwAucgO8A88AAAAALYeAGAAwcgO8A88AAAAALYeAGQAycgO8A88AAAAALYeAGgA0c\n",
       "gO8A88AAAAALYeAGwA2cgO8A88AAAAALYeAHAA4cgO8A88AAAAALYeAHQA6cgO8A88AAAAALYeAH\n",
       "gA8cgO8A88AAAAALYeAHwA+cgO8A88AAAAALYeAIABAcgO8A88AAAAALYeAIQBCcgO8A88AAAAAL\n",
       "YeAIgBEcgO8A88AAAAALYeAIwBGcgO8A88AAAAALYeAJABIcgO8A88AAAAALYeAJQBKcgO8A88AA\n",
       "AAALYeAJgBMcgO8A88AAAAALYeAJwBOcgO8A88AAAAALYeAKABQcgO8A88AAAAALYeAKQBScgO8A\n",
       "88AAAAALYeAKgBUcgO8A88AAAAALYeAKwBWcgO8A88AAAAALYeALABYcgO8A88AAAAALYeALQBac\n",
       "gO8A88AAAAALYeALgBccgO8A88AAAAALYeALwBecgO8A88AAAAALYeAMABgcgO8A88AAAAALYeAM\n",
       "QBicgO8A88AAAAALYeAMgBkcgO8A88AAAAALYeAMwBmcgO8A88AAAAALYeANABocgO8A88AAAAAL\n",
       "YeANQBqcgO8A88AAAAALYeANgBscgO8A88AAAAALYeANwBucgO8A88AAAAALYeAOABwcgO8A88AA\n",
       "AAALYeAOQBycgO8A88AAAAALYeAOgB0cgO8A88AAAAALYeAOwB2cgO8A88AAAAALYeAPAB4cgO8A\n",
       "88AAAAALYeAPQB6cgO8A88AAAAALYeAPgB8cgO8A88AAAAALYeAPwB+cgO8A88AAAAALYeAQACAc\n",
       "gO8A88AAAAALYeAQQCCcgO8A88AAAAALYeAQgCEcgO8A88AAAAALYeAQwCGcgO8A88AAAAALYeAR\n",
       "ACIcgO8A88AAAAALYeARQCKcgO8A88AAAAALYeARgCMcgO8A88AAAAALYeARwCOcgO8A88AAAAAL\n",
       "YeASACQcgO8A88AAAAALYeASQCScgO8A88AAAAALYeASgCUcgO8A88AAAAALYeASwCWcgO8A88AA\n",
       "AAALYeATACYcgO8A88AAAAALYeATQCacgO8A88AAAAALYeATgCccgO8A88AAAAALYeATwCecgO8A\n",
       "88AAAAALYeAUACgcgO8A88AAAAALYeAUQCicgO8A88AAAAALYeAUgCkcgO8A88AAAAALYeAUwCmc\n",
       "gO8A88AAAAALYeAVACocgO8A88AAAAALYeAVQCqcgO8A88AAAAALYeAVgCscgO8A88AAAAALYeAV\n",
       "wCucgO8A88AAAAALYeAWACwcgO8A88AAAAALYeAWQCycgO8A88AAAAALYeAWgC0cgO8A88AAAAAL\n",
       "YeAWwC2cgO8A88AAAAALYeAXAC4cgO8A88AAAAALYeAXQC6cgO8A88AAAAALYeAXgC8cgO8A88AA\n",
       "AAALYeAXwC+cgO8A88AAAAALYeAYADAcgO8A88AAAAALYeAYQDCcgO8A88AAAAALYeAYgDEcgO8A\n",
       "88AAAAALYeAYwDGcgO8A88AAAASibW9vdgAAAGxtdmhkAAAAAAAAAAAAAAAAAAAD6AAAJxAAAQAA\n",
       "AQAAAAAAAAAAAAAAAAEAAAAAAAAAAAAAAAAAAAABAAAAAAAAAAAAAAAAAABAAAAAAAAAAAAAAAAA\n",
       "AAAAAAAAAAAAAAAAAAAAAAAAAgAAA8x0cmFrAAAAXHRraGQAAAADAAAAAAAAAAAAAAABAAAAAAAA\n",
       "JxAAAAAAAAAAAAAAAAAAAAAAAAEAAAAAAAAAAAAAAAAAAAABAAAAAAAAAAAAAAAAAABAAAAAAbAA\n",
       "AAEgAAAAAAAkZWR0cwAAABxlbHN0AAAAAAAAAAEAACcQAAAAAAABAAAAAANEbWRpYQAAACBtZGhk\n",
       "AAAAAAAAAAAAAAAAAAAoAAABkABVxAAAAAAALWhkbHIAAAAAAAAAAHZpZGUAAAAAAAAAAAAAAABW\n",
       "aWRlb0hhbmRsZXIAAAAC721pbmYAAAAUdm1oZAAAAAEAAAAAAAAAAAAAACRkaW5mAAAAHGRyZWYA\n",
       "AAAAAAAAAQAAAAx1cmwgAAAAAQAAAq9zdGJsAAAAp3N0c2QAAAAAAAAAAQAAAJdhdmMxAAAAAAAA\n",
       "AAEAAAAAAAAAAAAAAAAAAAAAAbABIABIAAAASAAAAAAAAAABAAAAAAAAAAAAAAAAAAAAAAAAAAAA\n",
       "AAAAAAAAAAAAAAAAGP//AAAAJWF2Y0MBQsAV/+EADmdCwBWMjUDYSkA8IhGoAQAEaM48gAAAABx1\n",
       "dWlka2hA8l8kT8W6OaUbzwMj8wAAAAAAAAAYc3R0cwAAAAAAAAABAAAAZAAABAAAAAAUc3RzcwAA\n",
       "AAAAAAABAAAAAQAAABxzdHNjAAAAAAAAAAEAAAABAAAAZAAAAAEAAAGkc3RzegAAAAAAAAAAAAAA\n",
       "ZAAACzoAAAI6AAAAWAAAAEUAAAA8AAAAHAAAAA8AAAAPAAAADwAAAA8AAAAPAAAADwAAAA8AAAAP\n",
       "AAAADwAAAA8AAAAPAAAADwAAAA8AAAAPAAAADwAAAA8AAAAPAAAADwAAAA8AAAAPAAAADwAAAA8A\n",
       "AAAPAAAADwAAAA8AAAAPAAAADwAAAA8AAAAPAAAADwAAAA8AAAAPAAAADwAAAA8AAAAPAAAADwAA\n",
       "AA8AAAAPAAAADwAAAA8AAAAPAAAADwAAAA8AAAAPAAAADwAAAA8AAAAPAAAADwAAAA8AAAAPAAAA\n",
       "DwAAAA8AAAAPAAAADwAAAA8AAAAPAAAADwAAAA8AAAAPAAAADwAAAA8AAAAPAAAADwAAAA8AAAAP\n",
       "AAAADwAAAA8AAAAPAAAADwAAAA8AAAAPAAAADwAAAA8AAAAPAAAADwAAAA8AAAAPAAAADwAAAA8A\n",
       "AAAPAAAADwAAAA8AAAAPAAAADwAAAA8AAAAPAAAADwAAAA8AAAAPAAAADwAAAA8AAAAPAAAADwAA\n",
       "AA8AAAAUc3RjbwAAAAAAAAABAAAAMAAAAGJ1ZHRhAAAAWm1ldGEAAAAAAAAAIWhkbHIAAAAAAAAA\n",
       "AG1kaXJhcHBsAAAAAAAAAAAAAAAALWlsc3QAAAAlqXRvbwAAAB1kYXRhAAAAAQAAAABMYXZmNTgu\n",
       "NDUuMTAw\n",
       "\">\n",
       "  Your browser does not support the video tag.\n",
       "</video>"
      ],
      "text/plain": [
       "<IPython.core.display.HTML object>"
      ]
     },
     "metadata": {},
     "output_type": "display_data"
    },
    {
     "data": {
      "image/png": "[encoded data removed]",
      "text/plain": [
       "<Figure size 432x288 with 2 Axes>"
      ]
     },
     "metadata": {
      "needs_background": "light"
     },
     "output_type": "display_data"
    }
   ],
   "source": [
    "import matplotlib.animation as animation\n",
    "from IPython import display\n",
    "\n",
    "animation_1 = animation.FuncAnimation(plt.gcf(), grid.plot, interval = 100, frames=100)\n",
    "video_1 = animation_1.to_html5_video()\n",
    "html_code_1 = display.HTML(video_1)\n",
    "display.display(html_code_1)\n",
    "plt.tight_layout()\n",
    "plt.show()"
   ]
  },
  {
   "cell_type": "code",
   "execution_count": 52,
   "metadata": {},
   "outputs": [
    {
     "data": {
      "text/plain": [
       "1"
      ]
     },
     "execution_count": 52,
     "metadata": {},
     "output_type": "execute_result"
    }
   ],
   "source": [
    "np.ravel_multi_index((0,0,0,1),(5,5,5,5))"
   ]
  },
  {
   "cell_type": "code",
   "execution_count": 189,
   "metadata": {},
   "outputs": [
    {
     "data": {
      "text/plain": [
       "[<matplotlib.lines.Line2D at 0x7fb51178d3a0>]"
      ]
     },
     "execution_count": 189,
     "metadata": {},
     "output_type": "execute_result"
    },
    {
     "data": {
      "image/png": "[encoded data removed]",
      "text/plain": [
       "<Figure size 432x288 with 1 Axes>"
      ]
     },
     "metadata": {
      "needs_background": "light"
     },
     "output_type": "display_data"
    }
   ],
   "source": [
    "\n",
    "plt.clf()\n",
    "plt.figure(dpi = 400)\n",
    "plt.xlabel(\"Reward During 1 Day\")\n",
    "plt.ylabel(\"Number of Days\")\n",
    "plt.hist(np.sum(rewards_stat[:,:,1], axis=1))\n",
    "plt.savefig(\"results/RandomTest.png\")"
   ]
  }
 ],
 "metadata": {
  "interpreter": {
   "hash": "74847fcbdcd94036bf2f0f9d227a915deb4e6afd6c26ed4a653ceb41aa4e9b88"
  },
  "kernelspec": {
   "display_name": "Python 3.8.5 64-bit ('csrl': conda)",
   "language": "python",
   "name": "python3"
  },
  "language_info": {
   "codemirror_mode": {
    "name": "ipython",
    "version": 3
   },
   "file_extension": ".py",
   "mimetype": "text/x-python",
   "name": "python",
   "nbconvert_exporter": "python",
   "pygments_lexer": "ipython3",
   "version": "3.8.5"
  },
  "orig_nbformat": 4
 },
 "nbformat": 4,
 "nbformat_minor": 2
}
